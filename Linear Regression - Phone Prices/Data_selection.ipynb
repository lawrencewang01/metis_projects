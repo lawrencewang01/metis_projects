{
 "cells": [
  {
   "cell_type": "code",
   "execution_count": 1,
   "metadata": {},
   "outputs": [],
   "source": [
    "import pandas as pd\n",
    "import numpy as np\n",
    "import statsmodels.api as sm\n",
    "import statsmodels.formula.api as smf\n",
    "import patsy\n",
    "import pickle\n",
    "import datetime as date\n",
    "\n",
    "import seaborn as sns\n",
    "import matplotlib.pyplot as plt\n",
    "from sklearn.linear_model import LinearRegression\n",
    "from sklearn.linear_model import RidgeCV\n",
    "%matplotlib inline"
   ]
  },
  {
   "cell_type": "code",
   "execution_count": 8,
   "metadata": {},
   "outputs": [
    {
     "name": "stderr",
     "output_type": "stream",
     "text": [
      "b'Skipping line 821: expected 40 fields, saw 41\\nSkipping line 6060: expected 40 fields, saw 41\\nSkipping line 6663: expected 40 fields, saw 41\\n'\n"
     ]
    }
   ],
   "source": [
    "df = pd.read_csv(r'/Users/lawrencewang/Downloads/phone_dataset.csv', error_bad_lines=False)"
   ]
  },
  {
   "cell_type": "code",
   "execution_count": 9,
   "metadata": {},
   "outputs": [
    {
     "data": {
      "text/plain": [
       "(8628, 40)"
      ]
     },
     "execution_count": 9,
     "metadata": {},
     "output_type": "execute_result"
    }
   ],
   "source": [
    "df.shape"
   ]
  },
  {
   "cell_type": "code",
   "execution_count": 10,
   "metadata": {},
   "outputs": [
    {
     "data": {
      "text/plain": [
       "Index(['brand', 'model', 'network_technology', '2G_bands', '3G_bands',\n",
       "       '4G_bands', 'network_speed', 'GPRS', 'EDGE', 'announced', 'status',\n",
       "       'dimentions', 'weight_g', 'weight_oz', 'SIM', 'display_type',\n",
       "       'display_resolution', 'display_size', 'OS', 'CPU', 'Chipset', 'GPU',\n",
       "       'memory_card', 'internal_memory', 'RAM', 'primary_camera',\n",
       "       'secondary_camera', 'loud_speaker', 'audio_jack', 'WLAN', 'bluetooth',\n",
       "       'GPS', 'NFC', 'radio', 'USB', 'sensors', 'battery', 'colors',\n",
       "       'approx_price_EUR', 'img_url'],\n",
       "      dtype='object')"
      ]
     },
     "execution_count": 10,
     "metadata": {},
     "output_type": "execute_result"
    }
   ],
   "source": [
    "df.columns"
   ]
  },
  {
   "cell_type": "code",
   "execution_count": 11,
   "metadata": {},
   "outputs": [],
   "source": [
    "df_dropped = df.drop(['network_technology','2G_bands' ,'3G_bands' ,'4G_bands' ,'network_speed' ,'GPRS' ,'EDGE' ,'SIM' ,\n",
    "         'OS' , 'Chipset','GPU' ,'memory_card' ,'loud_speaker' ,'audio_jack' ,'WLAN' ,'bluetooth' ,'GPS' ,\n",
    "         'NFC', 'radio','USB' ,'sensors' ,'colors' ,'img_url', 'display_type', 'brand', 'model', 'status', 'CPU', \n",
    "         'weight_oz', 'announced', 'secondary_camera'],\n",
    "        axis = 1)"
   ]
  },
  {
   "cell_type": "code",
   "execution_count": 12,
   "metadata": {},
   "outputs": [
    {
     "data": {
      "text/html": [
       "<div>\n",
       "<style scoped>\n",
       "    .dataframe tbody tr th:only-of-type {\n",
       "        vertical-align: middle;\n",
       "    }\n",
       "\n",
       "    .dataframe tbody tr th {\n",
       "        vertical-align: top;\n",
       "    }\n",
       "\n",
       "    .dataframe thead th {\n",
       "        text-align: right;\n",
       "    }\n",
       "</style>\n",
       "<table border=\"1\" class=\"dataframe\">\n",
       "  <thead>\n",
       "    <tr style=\"text-align: right;\">\n",
       "      <th></th>\n",
       "      <th>dimentions</th>\n",
       "      <th>weight_g</th>\n",
       "      <th>display_resolution</th>\n",
       "      <th>display_size</th>\n",
       "      <th>internal_memory</th>\n",
       "      <th>RAM</th>\n",
       "      <th>primary_camera</th>\n",
       "      <th>battery</th>\n",
       "      <th>approx_price_EUR</th>\n",
       "    </tr>\n",
       "  </thead>\n",
       "  <tbody>\n",
       "    <tr>\n",
       "      <th>0</th>\n",
       "      <td>191.7 x 101 x 9.4 mm (7.55 x 3.98 x 0.37 in)</td>\n",
       "      <td>260</td>\n",
       "      <td>7.0 inches (~69.8% screen-to-body ratio)</td>\n",
       "      <td>720 x 1280 pixels (~210 ppi pixel density)</td>\n",
       "      <td>16/32 GB</td>\n",
       "      <td>2 GB RAM</td>\n",
       "      <td>13 MP| autofocus</td>\n",
       "      <td>Non-removable Li-Ion 3400 mAh battery (12.92 Wh)</td>\n",
       "      <td>170.0</td>\n",
       "    </tr>\n",
       "    <tr>\n",
       "      <th>1</th>\n",
       "      <td>153.8 x 75.6 x 8.5 mm (6.06 x 2.98 x 0.33 in)</td>\n",
       "      <td>169</td>\n",
       "      <td>5.5 inches (~71.7% screen-to-body ratio)</td>\n",
       "      <td>1080 x 1920 pixels (~401 ppi pixel density)</td>\n",
       "      <td>32 GB</td>\n",
       "      <td>3 GB RAM</td>\n",
       "      <td>13 MP| autofocus| LED flash</td>\n",
       "      <td>Removable Li-Po 4080 mAh battery</td>\n",
       "      <td>250.0</td>\n",
       "    </tr>\n",
       "    <tr>\n",
       "      <th>2</th>\n",
       "      <td>-</td>\n",
       "      <td>NaN</td>\n",
       "      <td>5.0 inches</td>\n",
       "      <td>720 x 1280 pixels (~294 ppi pixel density)</td>\n",
       "      <td>8 GB</td>\n",
       "      <td>1 GB RAM</td>\n",
       "      <td>8 MP| autofocus| LED flash</td>\n",
       "      <td>Removable Li-Ion 2000 mAh battery</td>\n",
       "      <td>120.0</td>\n",
       "    </tr>\n",
       "  </tbody>\n",
       "</table>\n",
       "</div>"
      ],
      "text/plain": [
       "                                      dimentions weight_g  \\\n",
       "0   191.7 x 101 x 9.4 mm (7.55 x 3.98 x 0.37 in)      260   \n",
       "1  153.8 x 75.6 x 8.5 mm (6.06 x 2.98 x 0.33 in)      169   \n",
       "2                                              -      NaN   \n",
       "\n",
       "                         display_resolution  \\\n",
       "0  7.0 inches (~69.8% screen-to-body ratio)   \n",
       "1  5.5 inches (~71.7% screen-to-body ratio)   \n",
       "2                                5.0 inches   \n",
       "\n",
       "                                  display_size internal_memory       RAM  \\\n",
       "0   720 x 1280 pixels (~210 ppi pixel density)        16/32 GB  2 GB RAM   \n",
       "1  1080 x 1920 pixels (~401 ppi pixel density)           32 GB  3 GB RAM   \n",
       "2   720 x 1280 pixels (~294 ppi pixel density)            8 GB  1 GB RAM   \n",
       "\n",
       "                primary_camera  \\\n",
       "0             13 MP| autofocus   \n",
       "1  13 MP| autofocus| LED flash   \n",
       "2   8 MP| autofocus| LED flash   \n",
       "\n",
       "                                            battery  approx_price_EUR  \n",
       "0  Non-removable Li-Ion 3400 mAh battery (12.92 Wh)             170.0  \n",
       "1                  Removable Li-Po 4080 mAh battery             250.0  \n",
       "2                 Removable Li-Ion 2000 mAh battery             120.0  "
      ]
     },
     "execution_count": 12,
     "metadata": {},
     "output_type": "execute_result"
    }
   ],
   "source": [
    "df_dropped.head(3)"
   ]
  },
  {
   "cell_type": "code",
   "execution_count": 13,
   "metadata": {},
   "outputs": [
    {
     "data": {
      "text/plain": [
       "Index(['dimentions', 'weight_g', 'display_resolution', 'display_size',\n",
       "       'internal_memory', 'RAM', 'primary_camera', 'battery',\n",
       "       'approx_price_EUR'],\n",
       "      dtype='object')"
      ]
     },
     "execution_count": 13,
     "metadata": {},
     "output_type": "execute_result"
    }
   ],
   "source": [
    "df_dropped.columns"
   ]
  },
  {
   "cell_type": "code",
   "execution_count": 14,
   "metadata": {},
   "outputs": [
    {
     "name": "stdout",
     "output_type": "stream",
     "text": [
      "<class 'pandas.core.frame.DataFrame'>\n",
      "RangeIndex: 8628 entries, 0 to 8627\n",
      "Data columns (total 9 columns):\n",
      "dimentions            8609 non-null object\n",
      "weight_g              7679 non-null object\n",
      "display_resolution    7414 non-null object\n",
      "display_size          8581 non-null object\n",
      "internal_memory       6806 non-null object\n",
      "RAM                   4656 non-null object\n",
      "primary_camera        7436 non-null object\n",
      "battery               8626 non-null object\n",
      "approx_price_EUR      5003 non-null float64\n",
      "dtypes: float64(1), object(8)\n",
      "memory usage: 606.7+ KB\n"
     ]
    }
   ],
   "source": [
    "df_dropped.info()"
   ]
  },
  {
   "cell_type": "code",
   "execution_count": 15,
   "metadata": {},
   "outputs": [],
   "source": [
    "df_dropped = df_dropped.dropna(subset=['approx_price_EUR'])"
   ]
  },
  {
   "cell_type": "code",
   "execution_count": 16,
   "metadata": {},
   "outputs": [],
   "source": [
    "df_cleaner = df_dropped.dropna()"
   ]
  },
  {
   "cell_type": "code",
   "execution_count": 17,
   "metadata": {},
   "outputs": [
    {
     "name": "stdout",
     "output_type": "stream",
     "text": [
      "<class 'pandas.core.frame.DataFrame'>\n",
      "Int64Index: 2901 entries, 0 to 8608\n",
      "Data columns (total 9 columns):\n",
      "dimentions            2901 non-null object\n",
      "weight_g              2901 non-null object\n",
      "display_resolution    2901 non-null object\n",
      "display_size          2901 non-null object\n",
      "internal_memory       2901 non-null object\n",
      "RAM                   2901 non-null object\n",
      "primary_camera        2901 non-null object\n",
      "battery               2901 non-null object\n",
      "approx_price_EUR      2901 non-null float64\n",
      "dtypes: float64(1), object(8)\n",
      "memory usage: 226.6+ KB\n"
     ]
    }
   ],
   "source": [
    "df_cleaner.info()"
   ]
  },
  {
   "cell_type": "code",
   "execution_count": 18,
   "metadata": {},
   "outputs": [],
   "source": [
    "with open('data_selection', 'wb') as to_write:\n",
    "    pickle.dump(df_cleaner, to_write)"
   ]
  }
 ],
 "metadata": {
  "kernelspec": {
   "display_name": "metis",
   "language": "python",
   "name": "metis"
  },
  "language_info": {
   "codemirror_mode": {
    "name": "ipython",
    "version": 3
   },
   "file_extension": ".py",
   "mimetype": "text/x-python",
   "name": "python",
   "nbconvert_exporter": "python",
   "pygments_lexer": "ipython3",
   "version": "3.7.1"
  }
 },
 "nbformat": 4,
 "nbformat_minor": 2
}
