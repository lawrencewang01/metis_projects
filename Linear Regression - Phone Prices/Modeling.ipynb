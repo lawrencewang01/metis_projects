{
 "cells": [
  {
   "cell_type": "code",
   "execution_count": 1,
   "metadata": {},
   "outputs": [],
   "source": [
    "import pandas as pd\n",
    "import numpy as np\n",
    "import statsmodels.api as sm\n",
    "import statsmodels.formula.api as smf\n",
    "import patsy\n",
    "import pickle\n",
    "import datetime as date\n",
    "import math\n",
    "import seaborn as sns\n",
    "sns.set()\n",
    "\n",
    "\n",
    "from sklearn.model_selection import KFold\n",
    "import matplotlib.pyplot as plt\n",
    "from sklearn.model_selection import train_test_split, cross_val_score\n",
    "from sklearn.linear_model import LinearRegression, Lasso, LassoCV, Ridge, RidgeCV\n",
    "from sklearn.pipeline import Pipeline\n",
    "from sklearn.preprocessing import StandardScaler, PolynomialFeatures\n",
    "from sklearn.metrics import r2_score\n",
    "%matplotlib inline"
   ]
  },
  {
   "cell_type": "code",
   "execution_count": 2,
   "metadata": {},
   "outputs": [],
   "source": [
    "with open('final_data','rb') as read_file:\n",
    "    df = pickle.load(read_file)"
   ]
  },
  {
   "cell_type": "code",
   "execution_count": 3,
   "metadata": {},
   "outputs": [
    {
     "data": {
      "text/html": [
       "<div>\n",
       "<style scoped>\n",
       "    .dataframe tbody tr th:only-of-type {\n",
       "        vertical-align: middle;\n",
       "    }\n",
       "\n",
       "    .dataframe tbody tr th {\n",
       "        vertical-align: top;\n",
       "    }\n",
       "\n",
       "    .dataframe thead th {\n",
       "        text-align: right;\n",
       "    }\n",
       "</style>\n",
       "<table border=\"1\" class=\"dataframe\">\n",
       "  <thead>\n",
       "    <tr style=\"text-align: right;\">\n",
       "      <th></th>\n",
       "      <th>weight</th>\n",
       "      <th>camera</th>\n",
       "      <th>price</th>\n",
       "      <th>screen_size</th>\n",
       "      <th>length</th>\n",
       "      <th>width</th>\n",
       "      <th>thickness</th>\n",
       "      <th>battery</th>\n",
       "      <th>memory</th>\n",
       "      <th>RAM</th>\n",
       "      <th>log_price</th>\n",
       "    </tr>\n",
       "  </thead>\n",
       "  <tbody>\n",
       "    <tr>\n",
       "      <th>0</th>\n",
       "      <td>169.0</td>\n",
       "      <td>13.0</td>\n",
       "      <td>250.0</td>\n",
       "      <td>5.5</td>\n",
       "      <td>153.8</td>\n",
       "      <td>75.6</td>\n",
       "      <td>8.5</td>\n",
       "      <td>4080.0</td>\n",
       "      <td>32000.0</td>\n",
       "      <td>3000.0</td>\n",
       "      <td>5.521461</td>\n",
       "    </tr>\n",
       "    <tr>\n",
       "      <th>1</th>\n",
       "      <td>166.0</td>\n",
       "      <td>13.0</td>\n",
       "      <td>230.0</td>\n",
       "      <td>5.5</td>\n",
       "      <td>153.3</td>\n",
       "      <td>78.8</td>\n",
       "      <td>8.5</td>\n",
       "      <td>4020.0</td>\n",
       "      <td>32000.0</td>\n",
       "      <td>3000.0</td>\n",
       "      <td>5.438079</td>\n",
       "    </tr>\n",
       "    <tr>\n",
       "      <th>2</th>\n",
       "      <td>125.0</td>\n",
       "      <td>8.0</td>\n",
       "      <td>110.0</td>\n",
       "      <td>5.0</td>\n",
       "      <td>145.7</td>\n",
       "      <td>71.2</td>\n",
       "      <td>8.4</td>\n",
       "      <td>2000.0</td>\n",
       "      <td>8000.0</td>\n",
       "      <td>1000.0</td>\n",
       "      <td>4.700480</td>\n",
       "    </tr>\n",
       "  </tbody>\n",
       "</table>\n",
       "</div>"
      ],
      "text/plain": [
       "   weight  camera  price  screen_size  length  width  thickness  battery  \\\n",
       "0   169.0    13.0  250.0          5.5   153.8   75.6        8.5   4080.0   \n",
       "1   166.0    13.0  230.0          5.5   153.3   78.8        8.5   4020.0   \n",
       "2   125.0     8.0  110.0          5.0   145.7   71.2        8.4   2000.0   \n",
       "\n",
       "    memory     RAM  log_price  \n",
       "0  32000.0  3000.0   5.521461  \n",
       "1  32000.0  3000.0   5.438079  \n",
       "2   8000.0  1000.0   4.700480  "
      ]
     },
     "execution_count": 3,
     "metadata": {},
     "output_type": "execute_result"
    }
   ],
   "source": [
    "df.head(3)"
   ]
  },
  {
   "cell_type": "code",
   "execution_count": 26,
   "metadata": {},
   "outputs": [
    {
     "data": {
      "text/html": [
       "<div>\n",
       "<style scoped>\n",
       "    .dataframe tbody tr th:only-of-type {\n",
       "        vertical-align: middle;\n",
       "    }\n",
       "\n",
       "    .dataframe tbody tr th {\n",
       "        vertical-align: top;\n",
       "    }\n",
       "\n",
       "    .dataframe thead th {\n",
       "        text-align: right;\n",
       "    }\n",
       "</style>\n",
       "<table border=\"1\" class=\"dataframe\">\n",
       "  <thead>\n",
       "    <tr style=\"text-align: right;\">\n",
       "      <th></th>\n",
       "      <th>weight</th>\n",
       "      <th>camera</th>\n",
       "      <th>price</th>\n",
       "      <th>screen_size</th>\n",
       "      <th>length</th>\n",
       "      <th>width</th>\n",
       "      <th>thickness</th>\n",
       "      <th>battery</th>\n",
       "      <th>memory</th>\n",
       "      <th>RAM</th>\n",
       "      <th>log_price</th>\n",
       "    </tr>\n",
       "  </thead>\n",
       "  <tbody>\n",
       "    <tr>\n",
       "      <th>count</th>\n",
       "      <td>2344.000000</td>\n",
       "      <td>2344.000000</td>\n",
       "      <td>2344.000000</td>\n",
       "      <td>2344.000000</td>\n",
       "      <td>2344.000000</td>\n",
       "      <td>2344.000000</td>\n",
       "      <td>2344.000000</td>\n",
       "      <td>2344.000000</td>\n",
       "      <td>2344.000000</td>\n",
       "      <td>2344.000000</td>\n",
       "      <td>2344.000000</td>\n",
       "    </tr>\n",
       "    <tr>\n",
       "      <th>mean</th>\n",
       "      <td>160.547867</td>\n",
       "      <td>7.423635</td>\n",
       "      <td>199.496587</td>\n",
       "      <td>4.588712</td>\n",
       "      <td>137.335111</td>\n",
       "      <td>72.217449</td>\n",
       "      <td>10.585410</td>\n",
       "      <td>2223.553754</td>\n",
       "      <td>11904.408276</td>\n",
       "      <td>1194.003413</td>\n",
       "      <td>5.135868</td>\n",
       "    </tr>\n",
       "    <tr>\n",
       "      <th>std</th>\n",
       "      <td>81.846145</td>\n",
       "      <td>4.672745</td>\n",
       "      <td>123.055089</td>\n",
       "      <td>1.453705</td>\n",
       "      <td>28.332823</td>\n",
       "      <td>22.039365</td>\n",
       "      <td>3.024261</td>\n",
       "      <td>1132.758650</td>\n",
       "      <td>16184.379931</td>\n",
       "      <td>1068.846415</td>\n",
       "      <td>0.566413</td>\n",
       "    </tr>\n",
       "    <tr>\n",
       "      <th>min</th>\n",
       "      <td>47.000000</td>\n",
       "      <td>1.000000</td>\n",
       "      <td>10.000000</td>\n",
       "      <td>1.560000</td>\n",
       "      <td>44.000000</td>\n",
       "      <td>36.800000</td>\n",
       "      <td>4.700000</td>\n",
       "      <td>1.000000</td>\n",
       "      <td>8.000000</td>\n",
       "      <td>8.000000</td>\n",
       "      <td>2.302585</td>\n",
       "    </tr>\n",
       "    <tr>\n",
       "      <th>25%</th>\n",
       "      <td>124.675000</td>\n",
       "      <td>5.000000</td>\n",
       "      <td>120.000000</td>\n",
       "      <td>3.700000</td>\n",
       "      <td>118.500000</td>\n",
       "      <td>62.000000</td>\n",
       "      <td>8.500000</td>\n",
       "      <td>1500.000000</td>\n",
       "      <td>4000.000000</td>\n",
       "      <td>512.000000</td>\n",
       "      <td>4.787492</td>\n",
       "    </tr>\n",
       "    <tr>\n",
       "      <th>50%</th>\n",
       "      <td>142.000000</td>\n",
       "      <td>5.000000</td>\n",
       "      <td>170.000000</td>\n",
       "      <td>4.500000</td>\n",
       "      <td>133.300000</td>\n",
       "      <td>67.800000</td>\n",
       "      <td>9.900000</td>\n",
       "      <td>2000.000000</td>\n",
       "      <td>8000.000000</td>\n",
       "      <td>1000.000000</td>\n",
       "      <td>5.135798</td>\n",
       "    </tr>\n",
       "    <tr>\n",
       "      <th>75%</th>\n",
       "      <td>163.000000</td>\n",
       "      <td>8.000000</td>\n",
       "      <td>250.000000</td>\n",
       "      <td>5.200000</td>\n",
       "      <td>146.800000</td>\n",
       "      <td>73.900000</td>\n",
       "      <td>12.000000</td>\n",
       "      <td>2700.000000</td>\n",
       "      <td>16000.000000</td>\n",
       "      <td>2000.000000</td>\n",
       "      <td>5.521461</td>\n",
       "    </tr>\n",
       "    <tr>\n",
       "      <th>max</th>\n",
       "      <td>952.500000</td>\n",
       "      <td>41.000000</td>\n",
       "      <td>1400.000000</td>\n",
       "      <td>12.300000</td>\n",
       "      <td>300.300000</td>\n",
       "      <td>256.800000</td>\n",
       "      <td>28.200000</td>\n",
       "      <td>9600.000000</td>\n",
       "      <td>256000.000000</td>\n",
       "      <td>16000.000000</td>\n",
       "      <td>7.244228</td>\n",
       "    </tr>\n",
       "  </tbody>\n",
       "</table>\n",
       "</div>"
      ],
      "text/plain": [
       "            weight       camera        price  screen_size       length  \\\n",
       "count  2344.000000  2344.000000  2344.000000  2344.000000  2344.000000   \n",
       "mean    160.547867     7.423635   199.496587     4.588712   137.335111   \n",
       "std      81.846145     4.672745   123.055089     1.453705    28.332823   \n",
       "min      47.000000     1.000000    10.000000     1.560000    44.000000   \n",
       "25%     124.675000     5.000000   120.000000     3.700000   118.500000   \n",
       "50%     142.000000     5.000000   170.000000     4.500000   133.300000   \n",
       "75%     163.000000     8.000000   250.000000     5.200000   146.800000   \n",
       "max     952.500000    41.000000  1400.000000    12.300000   300.300000   \n",
       "\n",
       "             width    thickness      battery         memory           RAM  \\\n",
       "count  2344.000000  2344.000000  2344.000000    2344.000000   2344.000000   \n",
       "mean     72.217449    10.585410  2223.553754   11904.408276   1194.003413   \n",
       "std      22.039365     3.024261  1132.758650   16184.379931   1068.846415   \n",
       "min      36.800000     4.700000     1.000000       8.000000      8.000000   \n",
       "25%      62.000000     8.500000  1500.000000    4000.000000    512.000000   \n",
       "50%      67.800000     9.900000  2000.000000    8000.000000   1000.000000   \n",
       "75%      73.900000    12.000000  2700.000000   16000.000000   2000.000000   \n",
       "max     256.800000    28.200000  9600.000000  256000.000000  16000.000000   \n",
       "\n",
       "         log_price  \n",
       "count  2344.000000  \n",
       "mean      5.135868  \n",
       "std       0.566413  \n",
       "min       2.302585  \n",
       "25%       4.787492  \n",
       "50%       5.135798  \n",
       "75%       5.521461  \n",
       "max       7.244228  "
      ]
     },
     "execution_count": 26,
     "metadata": {},
     "output_type": "execute_result"
    }
   ],
   "source": [
    "df.describe()"
   ]
  },
  {
   "cell_type": "code",
   "execution_count": 37,
   "metadata": {},
   "outputs": [],
   "source": [
    "df = df.drop('price', axis=1)"
   ]
  },
  {
   "cell_type": "markdown",
   "metadata": {},
   "source": [
    "## Start Modeling w/StatsModel OLS"
   ]
  },
  {
   "cell_type": "code",
   "execution_count": 38,
   "metadata": {},
   "outputs": [
    {
     "data": {
      "text/html": [
       "<table class=\"simpletable\">\n",
       "<caption>OLS Regression Results</caption>\n",
       "<tr>\n",
       "  <th>Dep. Variable:</th>        <td>log_price</td>    <th>  R-squared:         </th> <td>   0.470</td> \n",
       "</tr>\n",
       "<tr>\n",
       "  <th>Model:</th>                   <td>OLS</td>       <th>  Adj. R-squared:    </th> <td>   0.468</td> \n",
       "</tr>\n",
       "<tr>\n",
       "  <th>Method:</th>             <td>Least Squares</td>  <th>  F-statistic:       </th> <td>   230.4</td> \n",
       "</tr>\n",
       "<tr>\n",
       "  <th>Date:</th>             <td>Sun, 21 Apr 2019</td> <th>  Prob (F-statistic):</th> <td>1.91e-314</td>\n",
       "</tr>\n",
       "<tr>\n",
       "  <th>Time:</th>                 <td>18:02:43</td>     <th>  Log-Likelihood:    </th> <td> -1247.9</td> \n",
       "</tr>\n",
       "<tr>\n",
       "  <th>No. Observations:</th>      <td>  2344</td>      <th>  AIC:               </th> <td>   2516.</td> \n",
       "</tr>\n",
       "<tr>\n",
       "  <th>Df Residuals:</th>          <td>  2334</td>      <th>  BIC:               </th> <td>   2573.</td> \n",
       "</tr>\n",
       "<tr>\n",
       "  <th>Df Model:</th>              <td>     9</td>      <th>                     </th>     <td> </td>    \n",
       "</tr>\n",
       "<tr>\n",
       "  <th>Covariance Type:</th>      <td>nonrobust</td>    <th>                     </th>     <td> </td>    \n",
       "</tr>\n",
       "</table>\n",
       "<table class=\"simpletable\">\n",
       "<tr>\n",
       "       <td></td>          <th>coef</th>     <th>std err</th>      <th>t</th>      <th>P>|t|</th>  <th>[0.025</th>    <th>0.975]</th>  \n",
       "</tr>\n",
       "<tr>\n",
       "  <th>Intercept</th>   <td>    4.0173</td> <td>    0.138</td> <td>   29.176</td> <td> 0.000</td> <td>    3.747</td> <td>    4.287</td>\n",
       "</tr>\n",
       "<tr>\n",
       "  <th>length</th>      <td>   -0.0015</td> <td>    0.001</td> <td>   -1.112</td> <td> 0.266</td> <td>   -0.004</td> <td>    0.001</td>\n",
       "</tr>\n",
       "<tr>\n",
       "  <th>width</th>       <td>   -0.0061</td> <td>    0.002</td> <td>   -3.453</td> <td> 0.001</td> <td>   -0.010</td> <td>   -0.003</td>\n",
       "</tr>\n",
       "<tr>\n",
       "  <th>thickness</th>   <td>    0.0435</td> <td>    0.006</td> <td>    7.812</td> <td> 0.000</td> <td>    0.033</td> <td>    0.054</td>\n",
       "</tr>\n",
       "<tr>\n",
       "  <th>weight</th>      <td>    0.0023</td> <td>    0.000</td> <td>    5.522</td> <td> 0.000</td> <td>    0.001</td> <td>    0.003</td>\n",
       "</tr>\n",
       "<tr>\n",
       "  <th>memory</th>      <td> 7.096e-06</td> <td> 8.72e-07</td> <td>    8.137</td> <td> 0.000</td> <td> 5.39e-06</td> <td> 8.81e-06</td>\n",
       "</tr>\n",
       "<tr>\n",
       "  <th>battery</th>     <td>   2.5e-05</td> <td>  1.4e-05</td> <td>    1.786</td> <td> 0.074</td> <td>-2.45e-06</td> <td> 5.25e-05</td>\n",
       "</tr>\n",
       "<tr>\n",
       "  <th>screen_size</th> <td>    0.0728</td> <td>    0.030</td> <td>    2.431</td> <td> 0.015</td> <td>    0.014</td> <td>    0.132</td>\n",
       "</tr>\n",
       "<tr>\n",
       "  <th>camera</th>      <td>    0.0510</td> <td>    0.003</td> <td>   16.338</td> <td> 0.000</td> <td>    0.045</td> <td>    0.057</td>\n",
       "</tr>\n",
       "<tr>\n",
       "  <th>RAM</th>         <td> 6.935e-05</td> <td> 1.69e-05</td> <td>    4.111</td> <td> 0.000</td> <td> 3.63e-05</td> <td>    0.000</td>\n",
       "</tr>\n",
       "</table>\n",
       "<table class=\"simpletable\">\n",
       "<tr>\n",
       "  <th>Omnibus:</th>       <td>39.808</td> <th>  Durbin-Watson:     </th> <td>   1.199</td>\n",
       "</tr>\n",
       "<tr>\n",
       "  <th>Prob(Omnibus):</th> <td> 0.000</td> <th>  Jarque-Bera (JB):  </th> <td>  76.993</td>\n",
       "</tr>\n",
       "<tr>\n",
       "  <th>Skew:</th>          <td> 0.015</td> <th>  Prob(JB):          </th> <td>1.91e-17</td>\n",
       "</tr>\n",
       "<tr>\n",
       "  <th>Kurtosis:</th>      <td> 3.887</td> <th>  Cond. No.          </th> <td>3.26e+05</td>\n",
       "</tr>\n",
       "</table><br/><br/>Warnings:<br/>[1] Standard Errors assume that the covariance matrix of the errors is correctly specified.<br/>[2] The condition number is large, 3.26e+05. This might indicate that there are<br/>strong multicollinearity or other numerical problems."
      ],
      "text/plain": [
       "<class 'statsmodels.iolib.summary.Summary'>\n",
       "\"\"\"\n",
       "                            OLS Regression Results                            \n",
       "==============================================================================\n",
       "Dep. Variable:              log_price   R-squared:                       0.470\n",
       "Model:                            OLS   Adj. R-squared:                  0.468\n",
       "Method:                 Least Squares   F-statistic:                     230.4\n",
       "Date:                Sun, 21 Apr 2019   Prob (F-statistic):          1.91e-314\n",
       "Time:                        18:02:43   Log-Likelihood:                -1247.9\n",
       "No. Observations:                2344   AIC:                             2516.\n",
       "Df Residuals:                    2334   BIC:                             2573.\n",
       "Df Model:                           9                                         \n",
       "Covariance Type:            nonrobust                                         \n",
       "===============================================================================\n",
       "                  coef    std err          t      P>|t|      [0.025      0.975]\n",
       "-------------------------------------------------------------------------------\n",
       "Intercept       4.0173      0.138     29.176      0.000       3.747       4.287\n",
       "length         -0.0015      0.001     -1.112      0.266      -0.004       0.001\n",
       "width          -0.0061      0.002     -3.453      0.001      -0.010      -0.003\n",
       "thickness       0.0435      0.006      7.812      0.000       0.033       0.054\n",
       "weight          0.0023      0.000      5.522      0.000       0.001       0.003\n",
       "memory       7.096e-06   8.72e-07      8.137      0.000    5.39e-06    8.81e-06\n",
       "battery        2.5e-05    1.4e-05      1.786      0.074   -2.45e-06    5.25e-05\n",
       "screen_size     0.0728      0.030      2.431      0.015       0.014       0.132\n",
       "camera          0.0510      0.003     16.338      0.000       0.045       0.057\n",
       "RAM          6.935e-05   1.69e-05      4.111      0.000    3.63e-05       0.000\n",
       "==============================================================================\n",
       "Omnibus:                       39.808   Durbin-Watson:                   1.199\n",
       "Prob(Omnibus):                  0.000   Jarque-Bera (JB):               76.993\n",
       "Skew:                           0.015   Prob(JB):                     1.91e-17\n",
       "Kurtosis:                       3.887   Cond. No.                     3.26e+05\n",
       "==============================================================================\n",
       "\n",
       "Warnings:\n",
       "[1] Standard Errors assume that the covariance matrix of the errors is correctly specified.\n",
       "[2] The condition number is large, 3.26e+05. This might indicate that there are\n",
       "strong multicollinearity or other numerical problems.\n",
       "\"\"\""
      ]
     },
     "execution_count": 38,
     "metadata": {},
     "output_type": "execute_result"
    }
   ],
   "source": [
    "y_ols, X_ols = patsy.dmatrices('log_price ~ length + width + thickness + weight + memory + battery + screen_size + camera + RAM', \n",
    "                               data=df, return_type=\"dataframe\")\n",
    "\n",
    "\n",
    "model = sm.OLS(y_ols, X_ols)\n",
    "fit = model.fit()\n",
    "fit.summary()"
   ]
  },
  {
   "cell_type": "code",
   "execution_count": 6,
   "metadata": {},
   "outputs": [
    {
     "data": {
      "image/png": "[encoded data removed]",
      "text/plain": [
       "<Figure size 864x576 with 1 Axes>"
      ]
     },
     "metadata": {
      "needs_background": "light"
     },
     "output_type": "display_data"
    }
   ],
   "source": [
    "#checking residual plot again\n",
    "\n",
    "fit.resid.plot(style='o', figsize=(12,8));"
   ]
  },
  {
   "cell_type": "markdown",
   "metadata": {},
   "source": [
    "## Start Modeling w/ Different Regularization Techniques"
   ]
  },
  {
   "cell_type": "code",
   "execution_count": 39,
   "metadata": {},
   "outputs": [],
   "source": [
    "X, y = df.drop('log_price',axis=1), df['log_price']\n",
    "\n",
    "# hold out 20% of the data for final testing\n",
    "X, X_test, y, y_test = train_test_split(X, y, test_size=.2, random_state=3)"
   ]
  },
  {
   "cell_type": "code",
   "execution_count": 40,
   "metadata": {},
   "outputs": [],
   "source": [
    "X_train, X_val, y_train, y_val = train_test_split(X, y, test_size=.25, random_state=3)"
   ]
  },
  {
   "cell_type": "code",
   "execution_count": 55,
   "metadata": {},
   "outputs": [],
   "source": [
    "#instantiate models to test\n",
    "\n",
    "lm = LinearRegression()\n",
    "lm_regr = Ridge(alpha=175)\n",
    "lm_regl = Lasso(alpha=0.006)\n",
    "lm_poly = LinearRegression()\n",
    "\n",
    "\n",
    "#feature scaling (needed for regularization)\n",
    "scaler = StandardScaler()\n",
    "\n",
    "X_train_scaled = scaler.fit_transform(X_train.values)\n",
    "X_val_scaled = scaler.transform(X_val.values)\n",
    "X_test_scaled = scaler.transform(X_test.values)\n",
    "\n",
    "#transforms for polynomial model\n",
    "poly = PolynomialFeatures(degree=2) \n",
    "\n",
    "X_train_poly = poly.fit_transform(X_train.values)\n",
    "X_val_poly = poly.transform(X_val.values)\n",
    "X_test_poly = poly.transform(X_test.values)\n",
    "\n"
   ]
  },
  {
   "cell_type": "code",
   "execution_count": 56,
   "metadata": {},
   "outputs": [
    {
     "name": "stdout",
     "output_type": "stream",
     "text": [
      "Linear Regression val R^2: 0.446\n",
      "Ridge Regression val R^2: 0.468\n",
      "Lasso Regression val R^2: 0.457\n",
      "Degree 2 polynomial regression val R^2: 0.494\n"
     ]
    }
   ],
   "source": [
    "#validating all models above\n",
    "\n",
    "lm.fit(X_train, y_train)\n",
    "print(f'Linear Regression val R^2: {lm.score(X_val, y_val):.3f}')\n",
    "\n",
    "lm_regr.fit(X_train_scaled, y_train)\n",
    "print(f'Ridge Regression val R^2: {lm_regr.score(X_val_scaled, y_val):.3f}')\n",
    "\n",
    "lm_regl.fit(X_train_scaled, y_train)\n",
    "print(f'Lasso Regression val R^2: {lm_regl.score(X_val_scaled, y_val):.3f}')\n",
    "\n",
    "lm_poly.fit(X_train_poly, y_train)\n",
    "print(f'Degree 2 polynomial regression val R^2: {lm_poly.score(X_val_poly, y_val):.3f}')"
   ]
  },
  {
   "cell_type": "code",
   "execution_count": 61,
   "metadata": {},
   "outputs": [
    {
     "data": {
      "text/plain": [
       "[('weight', 0.10422394358587457),\n",
       " ('camera', 0.21910101876178895),\n",
       " ('screen_size', 0.01608495866518642),\n",
       " ('length', 0.0016128098298043843),\n",
       " ('width', -0.02155527085035314),\n",
       " ('thickness', 0.11817166637096586),\n",
       " ('battery', 0.03553823583942963),\n",
       " ('memory', 0.11290543834636424),\n",
       " ('RAM', 0.06647304969753949)]"
      ]
     },
     "execution_count": 61,
     "metadata": {},
     "output_type": "execute_result"
    }
   ],
   "source": [
    "list(zip(X.columns, lm_regr.coef_))"
   ]
  },
  {
   "cell_type": "code",
   "execution_count": 44,
   "metadata": {},
   "outputs": [
    {
     "data": {
      "text/plain": [
       "[('weight', 0.12264440433603792),\n",
       " ('camera', 0.2882604653476811),\n",
       " ('screen_size', 0.0),\n",
       " ('length', -0.0),\n",
       " ('width', -0.0),\n",
       " ('thickness', 0.14490373872316853),\n",
       " ('battery', 0.015738224672854594),\n",
       " ('memory', 0.1201304695781126),\n",
       " ('RAM', 0.03586558795788493)]"
      ]
     },
     "execution_count": 44,
     "metadata": {},
     "output_type": "execute_result"
    }
   ],
   "source": [
    "list(zip(X.columns, lm_regl.coef_))"
   ]
  },
  {
   "cell_type": "code",
   "execution_count": 45,
   "metadata": {},
   "outputs": [
    {
     "data": {
      "text/plain": [
       "[('weight', 0.0033514608475467564),\n",
       " ('camera', 0.06314421679185164),\n",
       " ('screen_size', 0.047998714053741044),\n",
       " ('length', -0.0023274870809571638),\n",
       " ('width', -0.007329431412313632),\n",
       " ('thickness', 0.042631396140424736),\n",
       " ('battery', 3.1065786844477664e-05),\n",
       " ('memory', 7.472719341945422e-06),\n",
       " ('RAM', 3.641850372113539e-05)]"
      ]
     },
     "execution_count": 45,
     "metadata": {},
     "output_type": "execute_result"
    }
   ],
   "source": [
    "list(zip(X.columns, lm.coef_))"
   ]
  },
  {
   "cell_type": "markdown",
   "metadata": {},
   "source": [
    "## Modeling w/ Regularization and Cross-validation"
   ]
  },
  {
   "cell_type": "code",
   "execution_count": 57,
   "metadata": {},
   "outputs": [
    {
     "data": {
      "text/plain": [
       "array([0.44405941, 0.48445379, 0.48532666, 0.44420497, 0.46483054])"
      ]
     },
     "execution_count": 57,
     "metadata": {},
     "output_type": "execute_result"
    }
   ],
   "source": [
    "kf = KFold(n_splits=5, shuffle=True, random_state = 30)\n",
    "cross_val_score(lm, X, y, cv=kf, scoring='r2')"
   ]
  },
  {
   "cell_type": "code",
   "execution_count": 58,
   "metadata": {},
   "outputs": [
    {
     "data": {
      "text/plain": [
       "array([0.44551567, 0.48722919, 0.48318292, 0.44357012, 0.46331801])"
      ]
     },
     "execution_count": 58,
     "metadata": {},
     "output_type": "execute_result"
    }
   ],
   "source": [
    "cross_val_score(lm_regr, X, y, cv=kf, scoring='r2')"
   ]
  },
  {
   "cell_type": "code",
   "execution_count": 59,
   "metadata": {},
   "outputs": [
    {
     "data": {
      "text/plain": [
       "array([0.44646286, 0.48741447, 0.48192149, 0.44177966, 0.46162476])"
      ]
     },
     "execution_count": 59,
     "metadata": {},
     "output_type": "execute_result"
    }
   ],
   "source": [
    "cross_val_score(lm_regl, X, y, cv=kf, scoring='r2')"
   ]
  },
  {
   "cell_type": "code",
   "execution_count": 60,
   "metadata": {},
   "outputs": [
    {
     "name": "stdout",
     "output_type": "stream",
     "text": [
      "0.46456317966606503\n",
      "0.46384064670197295\n",
      "0.46457507560541594\n"
     ]
    }
   ],
   "source": [
    "print(np.mean(cross_val_score(lm_regr, X, y, cv=kf, scoring='r2')))\n",
    "print(np.mean(cross_val_score(lm_regl, X, y, cv=kf, scoring='r2')))\n",
    "print(np.mean(cross_val_score(lm, X, y, cv=kf, scoring='r2')))"
   ]
  },
  {
   "cell_type": "markdown",
   "metadata": {},
   "source": [
    "Ridge regression beats out non-regularized OLS by a tiny margin here, \n",
    "\n",
    "I was considering using Lasso as my champion model since it cut out the collinearly-related parameters such as length and width, but Ridge happened to give the higher score."
   ]
  },
  {
   "cell_type": "code",
   "execution_count": 20,
   "metadata": {},
   "outputs": [
    {
     "name": "stdout",
     "output_type": "stream",
     "text": [
      "weight : 0.141\n",
      "camera : 0.231\n",
      "screen_size : 0.111\n",
      "length : -0.010\n",
      "width : -0.132\n",
      "thickness : 0.159\n",
      "battery : 0.043\n",
      "memory : 0.127\n",
      "RAM : 0.071\n",
      "\n",
      "\n"
     ]
    },
    {
     "data": {
      "text/plain": [
       "5.135279426210456"
      ]
     },
     "execution_count": 20,
     "metadata": {},
     "output_type": "execute_result"
    }
   ],
   "source": [
    "for feature, coef in zip(X.columns, lm_regr.coef_):\n",
    "        print(feature, ':', f'{coef:.3f}')\n",
    "        \n",
    "print('\\n')\n",
    "lm_regr.intercept_"
   ]
  },
  {
   "cell_type": "markdown",
   "metadata": {},
   "source": [
    "## Tuning Hyperparameters"
   ]
  },
  {
   "cell_type": "code",
   "execution_count": 50,
   "metadata": {},
   "outputs": [],
   "source": [
    "def mae(y_true, y_pred):\n",
    "    return np.mean(np.abs(y_pred - y_true)) "
   ]
  },
  {
   "cell_type": "code",
   "execution_count": 51,
   "metadata": {},
   "outputs": [],
   "source": [
    "alphalist = 10**(np.linspace(-3,3,300))\n",
    "err_vec_val = np.zeros(len(alphalist))\n",
    "err_vec_train = np.zeros(len(alphalist))\n",
    "\n",
    "for i,curr_alpha in enumerate(alphalist):\n",
    "\n",
    "    \n",
    "    steps = [('standardize', StandardScaler()), \n",
    "             ('lasso', Lasso(alpha = curr_alpha))]\n",
    "\n",
    "    pipe = Pipeline(steps)\n",
    "    pipe.fit(X_train.loc[:,['weight', 'camera', 'screen_size', \n",
    "                            'length', 'width', 'thickness', \n",
    "                            'battery', 'memory', 'RAM']].values, y_train)\n",
    "    \n",
    "    val_set_pred = pipe.predict(X_val.loc[:,['weight', 'camera', \n",
    "                                             'screen_size', 'length', \n",
    "                                             'width', 'thickness', \n",
    "                                             'battery', \n",
    "                                             'memory', 'RAM']].values)\n",
    "    err_vec_val[i] = mae(y_val, val_set_pred)"
   ]
  },
  {
   "cell_type": "code",
   "execution_count": 52,
   "metadata": {},
   "outputs": [
    {
     "data": {
      "text/plain": [
       "[<matplotlib.lines.Line2D at 0x1c272ec588>]"
      ]
     },
     "execution_count": 52,
     "metadata": {},
     "output_type": "execute_result"
    },
    {
     "data": {
      "image/png": "[encoded data removed]",
      "text/plain": [
       "<Figure size 432x288 with 1 Axes>"
      ]
     },
     "metadata": {
      "needs_background": "light"
     },
     "output_type": "display_data"
    }
   ],
   "source": [
    "plt.plot(alphalist, err_vec_val)"
   ]
  },
  {
   "cell_type": "markdown",
   "metadata": {},
   "source": [
    "It doesn't seem that regularization will really help the model much, but Lasso does help me select the important parameters"
   ]
  },
  {
   "cell_type": "code",
   "execution_count": 53,
   "metadata": {},
   "outputs": [],
   "source": [
    "for i,curr_alpha in enumerate(alphalist):\n",
    "\n",
    "    \n",
    "    steps = [('standardize', StandardScaler()), \n",
    "             ('ridge', Ridge(alpha = curr_alpha))]\n",
    "\n",
    "    pipe = Pipeline(steps)\n",
    "    pipe.fit(X_train.loc[:,['weight', 'camera', 'screen_size', \n",
    "                            'length', 'width', 'thickness', \n",
    "                            'battery', 'memory', 'RAM']].values, y_train)\n",
    "    \n",
    "    val_set_pred = pipe.predict(X_val.loc[:,['weight', 'camera', \n",
    "                                             'screen_size', 'length', \n",
    "                                             'width', 'thickness', \n",
    "                                             'battery', \n",
    "                                             'memory', 'RAM']].values)\n",
    "    err_vec_val[i] = mae(y_val, val_set_pred)"
   ]
  },
  {
   "cell_type": "code",
   "execution_count": 54,
   "metadata": {},
   "outputs": [
    {
     "data": {
      "text/plain": [
       "[<matplotlib.lines.Line2D at 0x1c27329668>]"
      ]
     },
     "execution_count": 54,
     "metadata": {},
     "output_type": "execute_result"
    },
    {
     "data": {
      "image/png": "[encoded data removed]",
      "text/plain": [
       "<Figure size 432x288 with 1 Axes>"
      ]
     },
     "metadata": {
      "needs_background": "light"
     },
     "output_type": "display_data"
    }
   ],
   "source": [
    "plt.plot(alphalist, err_vec_val)"
   ]
  },
  {
   "cell_type": "markdown",
   "metadata": {},
   "source": [
    "## Model Prediction"
   ]
  },
  {
   "cell_type": "code",
   "execution_count": 62,
   "metadata": {},
   "outputs": [],
   "source": [
    "selected_columns = ['weight', 'camera', 'screen_size', \n",
    "                            'length', 'width', 'thickness', \n",
    "                            'battery', 'memory', 'RAM']"
   ]
  },
  {
   "cell_type": "code",
   "execution_count": 63,
   "metadata": {},
   "outputs": [],
   "source": [
    "test_set_pred = lm_regr.predict(X_test_scaled)"
   ]
  },
  {
   "cell_type": "code",
   "execution_count": 64,
   "metadata": {},
   "outputs": [
    {
     "data": {
      "text/plain": [
       "<matplotlib.collections.PathCollection at 0x1c27384358>"
      ]
     },
     "execution_count": 64,
     "metadata": {},
     "output_type": "execute_result"
    },
    {
     "data": {
      "image/png": "[encoded data removed]",
      "text/plain": [
       "<Figure size 432x288 with 1 Axes>"
      ]
     },
     "metadata": {
      "needs_background": "light"
     },
     "output_type": "display_data"
    }
   ],
   "source": [
    "plt.scatter(test_set_pred, y_test, alpha=.4)"
   ]
  },
  {
   "cell_type": "code",
   "execution_count": 65,
   "metadata": {},
   "outputs": [
    {
     "data": {
      "text/plain": [
       "5.130547367535022"
      ]
     },
     "execution_count": 65,
     "metadata": {},
     "output_type": "execute_result"
    }
   ],
   "source": [
    "lm_regr.intercept_"
   ]
  },
  {
   "cell_type": "code",
   "execution_count": 66,
   "metadata": {},
   "outputs": [
    {
     "data": {
      "text/plain": [
       "0.4612276326547089"
      ]
     },
     "execution_count": 66,
     "metadata": {},
     "output_type": "execute_result"
    }
   ],
   "source": [
    "r2_score(y_test, test_set_pred)"
   ]
  },
  {
   "cell_type": "code",
   "execution_count": 67,
   "metadata": {},
   "outputs": [
    {
     "data": {
      "text/plain": [
       "0.3316466744308365"
      ]
     },
     "execution_count": 67,
     "metadata": {},
     "output_type": "execute_result"
    }
   ],
   "source": [
    "mae(y_test, test_set_pred)"
   ]
  },
  {
   "cell_type": "code",
   "execution_count": 68,
   "metadata": {},
   "outputs": [
    {
     "data": {
      "text/plain": [
       "[('weight', 0.10422394358587457),\n",
       " ('camera', 0.21910101876178895),\n",
       " ('screen_size', 0.01608495866518642),\n",
       " ('length', 0.0016128098298043843),\n",
       " ('width', -0.02155527085035314),\n",
       " ('thickness', 0.11817166637096586),\n",
       " ('battery', 0.03553823583942963),\n",
       " ('memory', 0.11290543834636424),\n",
       " ('RAM', 0.06647304969753949)]"
      ]
     },
     "execution_count": 68,
     "metadata": {},
     "output_type": "execute_result"
    }
   ],
   "source": [
    "list(zip(X_train.columns, lm_regr.coef_))"
   ]
  },
  {
   "cell_type": "code",
   "execution_count": null,
   "metadata": {},
   "outputs": [],
   "source": []
  }
 ],
 "metadata": {
  "kernelspec": {
   "display_name": "metis",
   "language": "python",
   "name": "metis"
  },
  "language_info": {
   "codemirror_mode": {
    "name": "ipython",
    "version": 3
   },
   "file_extension": ".py",
   "mimetype": "text/x-python",
   "name": "python",
   "nbconvert_exporter": "python",
   "pygments_lexer": "ipython3",
   "version": "3.7.1"
  }
 },
 "nbformat": 4,
 "nbformat_minor": 2
}
