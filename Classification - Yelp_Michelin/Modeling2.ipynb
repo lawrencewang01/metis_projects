{
 "cells": [
  {
   "cell_type": "code",
   "execution_count": 1,
   "metadata": {},
   "outputs": [],
   "source": [
    "import pandas as pd\n",
    "import numpy as np\n",
    "import pickle\n",
    "import matplotlib.pyplot as plt\n",
    "import seaborn as sns\n",
    "from collections import Counter\n",
    "# np.set_printoptions(suppress=True)\n",
    "\n",
    "from imblearn import under_sampling, over_sampling\n",
    "from imblearn.over_sampling import SMOTE\n",
    "from imblearn.over_sampling import ADASYN\n",
    "from imblearn.under_sampling  import RandomUnderSampler\n",
    "from imblearn.over_sampling import RandomOverSampler\n",
    "\n",
    "from sklearn import metrics\n",
    "from sklearn.model_selection import cross_val_score, train_test_split, GridSearchCV, RandomizedSearchCV\n",
    "from sklearn.metrics import confusion_matrix, precision_score, recall_score, accuracy_score, roc_auc_score\n",
    "from sklearn.metrics import f1_score, precision_recall_curve, fbeta_score\n",
    "from sklearn.neighbors import KNeighborsClassifier\n",
    "\n",
    "from sklearn.svm import LinearSVC, SVC\n",
    "\n",
    "from sklearn.linear_model import LogisticRegression\n",
    "from sklearn.preprocessing import StandardScaler\n",
    "\n",
    "from sklearn.naive_bayes import BernoulliNB, MultinomialNB, GaussianNB\n",
    "from sklearn.naive_bayes import GaussianNB\n",
    "from sklearn.dummy import DummyClassifier\n",
    "\n",
    "from sklearn.tree import DecisionTreeClassifier\n",
    "from sklearn.ensemble import RandomForestClassifier\n",
    "\n",
    "from mlxtend.plotting import plot_decision_regions\n",
    "%matplotlib inline"
   ]
  },
  {
   "cell_type": "code",
   "execution_count": 8,
   "metadata": {},
   "outputs": [],
   "source": [
    "with open('modeling_data_final','rb') as read_file:\n",
    "    df = pickle.load(read_file)"
   ]
  },
  {
   "cell_type": "code",
   "execution_count": 9,
   "metadata": {},
   "outputs": [
    {
     "data": {
      "text/plain": [
       "0    7423\n",
       "1     143\n",
       "Name: michelin, dtype: int64"
      ]
     },
     "execution_count": 9,
     "metadata": {},
     "output_type": "execute_result"
    }
   ],
   "source": [
    "df.michelin.value_counts()"
   ]
  },
  {
   "cell_type": "code",
   "execution_count": 10,
   "metadata": {},
   "outputs": [
    {
     "data": {
      "text/html": [
       "<div>\n",
       "<style scoped>\n",
       "    .dataframe tbody tr th:only-of-type {\n",
       "        vertical-align: middle;\n",
       "    }\n",
       "\n",
       "    .dataframe tbody tr th {\n",
       "        vertical-align: top;\n",
       "    }\n",
       "\n",
       "    .dataframe thead th {\n",
       "        text-align: right;\n",
       "    }\n",
       "</style>\n",
       "<table border=\"1\" class=\"dataframe\">\n",
       "  <thead>\n",
       "    <tr style=\"text-align: right;\">\n",
       "      <th></th>\n",
       "      <th>review_count</th>\n",
       "      <th>michelin</th>\n",
       "      <th>alcohol_beer_and_wine</th>\n",
       "      <th>alcohol_full_bar</th>\n",
       "      <th>alcohol_none</th>\n",
       "      <th>noise_average</th>\n",
       "      <th>noise_loud</th>\n",
       "      <th>noise_quiet</th>\n",
       "      <th>noise_very_loud</th>\n",
       "      <th>outdoor_seating_False</th>\n",
       "      <th>...</th>\n",
       "      <th>pricerange_2</th>\n",
       "      <th>pricerange_3</th>\n",
       "      <th>pricerange_4</th>\n",
       "      <th>takes_reservations_False</th>\n",
       "      <th>takes_reservations_True</th>\n",
       "      <th>wifi_free</th>\n",
       "      <th>wifi_no</th>\n",
       "      <th>stars_3</th>\n",
       "      <th>stars_4</th>\n",
       "      <th>stars_5</th>\n",
       "    </tr>\n",
       "  </thead>\n",
       "  <tbody>\n",
       "    <tr>\n",
       "      <th>1</th>\n",
       "      <td>170</td>\n",
       "      <td>0</td>\n",
       "      <td>1</td>\n",
       "      <td>0</td>\n",
       "      <td>0</td>\n",
       "      <td>1</td>\n",
       "      <td>0</td>\n",
       "      <td>0</td>\n",
       "      <td>0</td>\n",
       "      <td>1</td>\n",
       "      <td>...</td>\n",
       "      <td>1</td>\n",
       "      <td>0</td>\n",
       "      <td>0</td>\n",
       "      <td>0</td>\n",
       "      <td>1</td>\n",
       "      <td>0</td>\n",
       "      <td>1</td>\n",
       "      <td>0</td>\n",
       "      <td>1</td>\n",
       "      <td>0</td>\n",
       "    </tr>\n",
       "    <tr>\n",
       "      <th>105</th>\n",
       "      <td>380</td>\n",
       "      <td>0</td>\n",
       "      <td>1</td>\n",
       "      <td>0</td>\n",
       "      <td>0</td>\n",
       "      <td>1</td>\n",
       "      <td>0</td>\n",
       "      <td>0</td>\n",
       "      <td>0</td>\n",
       "      <td>0</td>\n",
       "      <td>...</td>\n",
       "      <td>0</td>\n",
       "      <td>0</td>\n",
       "      <td>0</td>\n",
       "      <td>0</td>\n",
       "      <td>1</td>\n",
       "      <td>1</td>\n",
       "      <td>0</td>\n",
       "      <td>0</td>\n",
       "      <td>1</td>\n",
       "      <td>0</td>\n",
       "    </tr>\n",
       "    <tr>\n",
       "      <th>341</th>\n",
       "      <td>100</td>\n",
       "      <td>0</td>\n",
       "      <td>0</td>\n",
       "      <td>1</td>\n",
       "      <td>0</td>\n",
       "      <td>0</td>\n",
       "      <td>1</td>\n",
       "      <td>0</td>\n",
       "      <td>0</td>\n",
       "      <td>0</td>\n",
       "      <td>...</td>\n",
       "      <td>1</td>\n",
       "      <td>0</td>\n",
       "      <td>0</td>\n",
       "      <td>0</td>\n",
       "      <td>1</td>\n",
       "      <td>1</td>\n",
       "      <td>0</td>\n",
       "      <td>1</td>\n",
       "      <td>0</td>\n",
       "      <td>0</td>\n",
       "    </tr>\n",
       "  </tbody>\n",
       "</table>\n",
       "<p>3 rows × 27 columns</p>\n",
       "</div>"
      ],
      "text/plain": [
       "     review_count  michelin  alcohol_beer_and_wine  alcohol_full_bar  \\\n",
       "1             170         0                      1                 0   \n",
       "105           380         0                      1                 0   \n",
       "341           100         0                      0                 1   \n",
       "\n",
       "     alcohol_none  noise_average  noise_loud  noise_quiet  noise_very_loud  \\\n",
       "1               0              1           0            0                0   \n",
       "105             0              1           0            0                0   \n",
       "341             0              0           1            0                0   \n",
       "\n",
       "     outdoor_seating_False   ...     pricerange_2  pricerange_3  pricerange_4  \\\n",
       "1                        1   ...                1             0             0   \n",
       "105                      0   ...                0             0             0   \n",
       "341                      0   ...                1             0             0   \n",
       "\n",
       "     takes_reservations_False  takes_reservations_True  wifi_free  wifi_no  \\\n",
       "1                           0                        1          0        1   \n",
       "105                         0                        1          1        0   \n",
       "341                         0                        1          1        0   \n",
       "\n",
       "     stars_3  stars_4  stars_5  \n",
       "1          0        1        0  \n",
       "105        0        1        0  \n",
       "341        1        0        0  \n",
       "\n",
       "[3 rows x 27 columns]"
      ]
     },
     "execution_count": 10,
     "metadata": {},
     "output_type": "execute_result"
    }
   ],
   "source": [
    "df.head(3)"
   ]
  },
  {
   "cell_type": "code",
   "execution_count": 11,
   "metadata": {},
   "outputs": [
    {
     "data": {
      "text/plain": [
       "Index(['review_count', 'michelin', 'alcohol_beer_and_wine', 'alcohol_full_bar',\n",
       "       'alcohol_none', 'noise_average', 'noise_loud', 'noise_quiet',\n",
       "       'noise_very_loud', 'outdoor_seating_False', 'outdoor_seating_True',\n",
       "       'attire_casual', 'attire_dressy', 'attire_formal',\n",
       "       'good_for_groups_False', 'good_for_groups_True', 'pricerange_1',\n",
       "       'pricerange_2', 'pricerange_3', 'pricerange_4',\n",
       "       'takes_reservations_False', 'takes_reservations_True', 'wifi_free',\n",
       "       'wifi_no', 'stars_3', 'stars_4', 'stars_5'],\n",
       "      dtype='object')"
      ]
     },
     "execution_count": 11,
     "metadata": {},
     "output_type": "execute_result"
    }
   ],
   "source": [
    "df.columns"
   ]
  },
  {
   "cell_type": "code",
   "execution_count": 12,
   "metadata": {},
   "outputs": [],
   "source": [
    "# df.michelin = df.michelin.apply(lambda x: 1 if x == 0 else 0)"
   ]
  },
  {
   "cell_type": "code",
   "execution_count": 13,
   "metadata": {},
   "outputs": [
    {
     "data": {
      "text/plain": [
       "0    7423\n",
       "1     143\n",
       "Name: michelin, dtype: int64"
      ]
     },
     "execution_count": 13,
     "metadata": {},
     "output_type": "execute_result"
    }
   ],
   "source": [
    "df.michelin.value_counts()"
   ]
  },
  {
   "cell_type": "code",
   "execution_count": 14,
   "metadata": {},
   "outputs": [],
   "source": [
    "X = df.drop(['michelin'], axis = 1)\n",
    "y = df.michelin"
   ]
  },
  {
   "cell_type": "code",
   "execution_count": 16,
   "metadata": {},
   "outputs": [],
   "source": [
    "X_train, X_test, y_train, y_test = train_test_split(X, y, test_size=0.20, random_state=30)"
   ]
  },
  {
   "cell_type": "code",
   "execution_count": 17,
   "metadata": {},
   "outputs": [],
   "source": [
    "X_train_ros, y_train_ros = RandomOverSampler(random_state=30).fit_sample(X_train, y_train)\n",
    "X_train_smote, y_train_smote = SMOTE(random_state = 30).fit_sample(X_train, y_train)\n",
    "X_train_ada, y_train_ada = ADASYN(random_state=30).fit_sample(X_train,y_train)\n",
    "X_train_rus, y_train_rus = RandomUnderSampler(random_state=30).fit_sample(X_train,y_train)"
   ]
  },
  {
   "cell_type": "code",
   "execution_count": 18,
   "metadata": {},
   "outputs": [],
   "source": [
    "df_mich = df.loc[df['michelin'] == 1]\n",
    "df_nomich = df.loc[df['michelin'] == 0]"
   ]
  },
  {
   "cell_type": "markdown",
   "metadata": {},
   "source": [
    "## Testing Model Performance"
   ]
  },
  {
   "cell_type": "code",
   "execution_count": 22,
   "metadata": {},
   "outputs": [],
   "source": [
    "def runall(X_train, y_train):\n",
    "    \n",
    "        \n",
    "    X_dummy, X_test, y_dummy, y_test = train_test_split(X, y, test_size=0.20, random_state=30)\n",
    "    \n",
    "    \n",
    "    #kNN\n",
    "    model_knn = KNeighborsClassifier(n_neighbors=3)\n",
    "    model_knn.fit(X_train, y_train)\n",
    "    knn_pred = model_knn.predict(X_test)\n",
    "\n",
    "    #Logistic Regression\n",
    "    model_log = LogisticRegression(class_weight='balanced', solver= 'liblinear', C=4)\n",
    "    model_log.fit(X_train, y_train)\n",
    "    log_pred = model_log.predict(X_test)\n",
    "\n",
    "    #Bernoulli Bayes\n",
    "    nb_bern = BernoulliNB()\n",
    "    nb_bern.fit(X_train, y_train)\n",
    "    bern_pred = nb_bern.predict(X_test)\n",
    "\n",
    "    #Gaussian Bayes\n",
    "    nb_gauss = GaussianNB()\n",
    "    nb_gauss.fit(X_train, y_train)\n",
    "    gauss_pred = nb_gauss.predict(X_test)\n",
    "\n",
    "    #Tree Model\n",
    "    model_tree = DecisionTreeClassifier(class_weight='balanced')\n",
    "    model_tree.fit(X_train, y_train)\n",
    "    tree_pred = model_tree.predict(X_test)\n",
    "\n",
    "    #Random Forest\n",
    "    model_forest = RandomForestClassifier(class_weight='balanced', n_estimators=100)\n",
    "    model_forest.fit(X_train, y_train)\n",
    "    forest_pred = model_forest.predict(X_test)\n",
    "\n",
    "\n",
    "    print('Model: kNN', \"\\n\", recall_score(y_test, knn_pred), \"\\n\",\n",
    "             confusion_matrix(y_test,knn_pred, labels=[1,0]), \"\\n\",\n",
    "             'F1 Score: ', f1_score(knn_pred, y_test),\"\\n\")\n",
    "            \n",
    "    print('Model: Logistic Regression', \"\\n\", recall_score(y_test, log_pred), \"\\n\",\n",
    "             confusion_matrix(y_test, log_pred, labels=[1,0]), \"\\n\",\n",
    "             'F1 Score: ', f1_score(log_pred, y_test),\"\\n\")\n",
    "\n",
    "    print('Model: Bernoulli Bayes', \"\\n\", recall_score(y_test, bern_pred), \"\\n\",\n",
    "             confusion_matrix(y_test, bern_pred, labels=[1,0]), \"\\n\",\n",
    "             'F1 Score: ', f1_score(bern_pred, y_test),\"\\n\")\n",
    "\n",
    "    print('Model: Gaussian Bayes', \"\\n\", recall_score(y_test, gauss_pred), \"\\n\",\n",
    "             confusion_matrix(y_test, gauss_pred, labels=[1,0]), \"\\n\",\n",
    "             'F1 Score: ', f1_score(gauss_pred, y_test),\"\\n\")\n",
    "\n",
    "    print('Model: Tree', \"\\n\", recall_score(y_test, tree_pred), \"\\n\",\n",
    "             confusion_matrix(y_test,tree_pred, labels=[1,0]), \"\\n\",\n",
    "             'F1 Score: ', f1_score(tree_pred, y_test),\"\\n\")\n",
    "\n",
    "    print('Model: Random Forest', \"\\n\", recall_score(y_test, forest_pred), \"\\n\",\n",
    "             confusion_matrix(y_test,forest_pred, labels=[1,0]), \"\\n\",\n",
    "             'F1 Score: ', f1_score(forest_pred, y_test),\"\\n\")\n",
    "\n"
   ]
  },
  {
   "cell_type": "markdown",
   "metadata": {},
   "source": [
    "## Tune Logistic C"
   ]
  },
  {
   "cell_type": "code",
   "execution_count": 23,
   "metadata": {},
   "outputs": [],
   "source": [
    "r = range(1,20)"
   ]
  },
  {
   "cell_type": "code",
   "execution_count": 24,
   "metadata": {},
   "outputs": [],
   "source": [
    "my_list = []\n",
    "\n",
    "for i in range(1, 20):\n",
    "    model_log = LogisticRegression(class_weight='balanced', solver= 'liblinear', C=i)\n",
    "    model_log.fit(X_train, y_train)\n",
    "    log_pred = model_log.predict(X_test)\n",
    "    my_list.append(f1_score(log_pred, y_test))\n"
   ]
  },
  {
   "cell_type": "code",
   "execution_count": 25,
   "metadata": {},
   "outputs": [
    {
     "data": {
      "text/plain": [
       "[<matplotlib.lines.Line2D at 0x1a1777d748>]"
      ]
     },
     "execution_count": 25,
     "metadata": {},
     "output_type": "execute_result"
    },
    {
     "data": {
      "image/png": "[encoded data removed]",
      "text/plain": [
       "<Figure size 432x288 with 1 Axes>"
      ]
     },
     "metadata": {
      "needs_background": "light"
     },
     "output_type": "display_data"
    }
   ],
   "source": [
    "plt.plot(r, my_list)"
   ]
  },
  {
   "cell_type": "code",
   "execution_count": 27,
   "metadata": {},
   "outputs": [
    {
     "name": "stdout",
     "output_type": "stream",
     "text": [
      "Model: kNN \n",
      " 0.19047619047619047 \n",
      " [[   4   17]\n",
      " [   2 1491]] \n",
      " F1 Score:  0.2962962962962963 \n",
      "\n",
      "Model: Logistic Regression \n",
      " 0.8571428571428571 \n",
      " [[  18    3]\n",
      " [ 104 1389]] \n",
      " F1 Score:  0.2517482517482518 \n",
      "\n",
      "Model: Bernoulli Bayes \n",
      " 0.8095238095238095 \n",
      " [[  17    4]\n",
      " [  64 1429]] \n",
      " F1 Score:  0.3333333333333333 \n",
      "\n",
      "Model: Gaussian Bayes \n",
      " 0.8571428571428571 \n",
      " [[  18    3]\n",
      " [ 104 1389]] \n",
      " F1 Score:  0.2517482517482518 \n",
      "\n",
      "Model: Tree \n",
      " 0.5238095238095238 \n",
      " [[  11   10]\n",
      " [  26 1467]] \n",
      " F1 Score:  0.37931034482758624 \n",
      "\n",
      "Model: Random Forest \n",
      " 0.5238095238095238 \n",
      " [[  11   10]\n",
      " [  15 1478]] \n",
      " F1 Score:  0.4680851063829788 \n",
      "\n"
     ]
    }
   ],
   "source": [
    "#weight balanced\n",
    "\n",
    "runall(X_train, y_train)"
   ]
  },
  {
   "cell_type": "code",
   "execution_count": 28,
   "metadata": {},
   "outputs": [
    {
     "name": "stdout",
     "output_type": "stream",
     "text": [
      "Model: kNN \n",
      " 0.5714285714285714 \n",
      " [[  12    9]\n",
      " [ 483 1010]] \n",
      " F1 Score:  0.046511627906976744 \n",
      "\n",
      "Model: Logistic Regression \n",
      " 0.8571428571428571 \n",
      " [[  18    3]\n",
      " [ 125 1368]] \n",
      " F1 Score:  0.21951219512195125 \n",
      "\n",
      "Model: Bernoulli Bayes \n",
      " 0.8571428571428571 \n",
      " [[  18    3]\n",
      " [ 119 1374]] \n",
      " F1 Score:  0.2278481012658228 \n",
      "\n",
      "Model: Gaussian Bayes \n",
      " 0.8571428571428571 \n",
      " [[  18    3]\n",
      " [ 104 1389]] \n",
      " F1 Score:  0.2517482517482518 \n",
      "\n",
      "Model: Tree \n",
      " 0.8095238095238095 \n",
      " [[  17    4]\n",
      " [ 233 1260]] \n",
      " F1 Score:  0.12546125461254612 \n",
      "\n",
      "Model: Random Forest \n",
      " 0.8095238095238095 \n",
      " [[  17    4]\n",
      " [ 168 1325]] \n",
      " F1 Score:  0.16504854368932043 \n",
      "\n"
     ]
    }
   ],
   "source": [
    "# weight 4:1\n",
    "runall(X_train_rus, y_train_rus)"
   ]
  },
  {
   "cell_type": "code",
   "execution_count": 65,
   "metadata": {},
   "outputs": [
    {
     "name": "stdout",
     "output_type": "stream",
     "text": [
      "Model: kNN \n",
      " 0.6875 \n",
      " [[ 22  10]\n",
      " [432 896]] \n",
      " F1 Score:  0.09053497942386832 \n",
      "\n",
      "Model: Logistic Regression \n",
      " 0.9375 \n",
      " [[  30    2]\n",
      " [ 216 1112]] \n",
      " F1 Score:  0.21582733812949637 \n",
      "\n",
      "Model: Bernoulli Bayes \n",
      " 0.875 \n",
      " [[  28    4]\n",
      " [ 109 1219]] \n",
      " F1 Score:  0.33136094674556216 \n",
      "\n",
      "Model: Gaussian Bayes \n",
      " 0.84375 \n",
      " [[  27    5]\n",
      " [ 130 1198]] \n",
      " F1 Score:  0.28571428571428575 \n",
      "\n",
      "Model: Tree \n",
      " 0.875 \n",
      " [[  28    4]\n",
      " [ 189 1139]] \n",
      " F1 Score:  0.22489959839357432 \n",
      "\n",
      "Model: Random Forest \n",
      " 0.875 \n",
      " [[  28    4]\n",
      " [ 122 1206]] \n",
      " F1 Score:  0.30769230769230765 \n",
      "\n"
     ]
    }
   ],
   "source": [
    "# weight 3:1\n",
    "runall(X_train_rus, y_train_rus)"
   ]
  },
  {
   "cell_type": "code",
   "execution_count": 67,
   "metadata": {},
   "outputs": [
    {
     "name": "stdout",
     "output_type": "stream",
     "text": [
      "Model: kNN \n",
      " 0.6875 \n",
      " [[ 22  10]\n",
      " [432 896]] \n",
      " F1 Score:  0.09053497942386832 \n",
      "\n",
      "Model: Logistic Regression \n",
      " 0.9375 \n",
      " [[  30    2]\n",
      " [ 173 1155]] \n",
      " F1 Score:  0.25531914893617025 \n",
      "\n",
      "Model: Bernoulli Bayes \n",
      " 0.875 \n",
      " [[  28    4]\n",
      " [ 109 1219]] \n",
      " F1 Score:  0.33136094674556216 \n",
      "\n",
      "Model: Gaussian Bayes \n",
      " 0.84375 \n",
      " [[  27    5]\n",
      " [ 130 1198]] \n",
      " F1 Score:  0.28571428571428575 \n",
      "\n",
      "Model: Tree \n",
      " 0.875 \n",
      " [[  28    4]\n",
      " [ 198 1130]] \n",
      " F1 Score:  0.21705426356589147 \n",
      "\n",
      "Model: Random Forest \n",
      " 0.875 \n",
      " [[  28    4]\n",
      " [ 134 1194]] \n",
      " F1 Score:  0.288659793814433 \n",
      "\n"
     ]
    }
   ],
   "source": [
    "# weight 2:1\n",
    "runall(X_train_rus, y_train_rus)"
   ]
  },
  {
   "cell_type": "code",
   "execution_count": 69,
   "metadata": {},
   "outputs": [
    {
     "name": "stdout",
     "output_type": "stream",
     "text": [
      "Model: kNN \n",
      " 0.6875 \n",
      " [[ 22  10]\n",
      " [432 896]] \n",
      " F1 Score:  0.09053497942386832 \n",
      "\n",
      "Model: Logistic Regression \n",
      " 0.90625 \n",
      " [[  29    3]\n",
      " [ 116 1212]] \n",
      " F1 Score:  0.3276836158192091 \n",
      "\n",
      "Model: Bernoulli Bayes \n",
      " 0.875 \n",
      " [[  28    4]\n",
      " [ 109 1219]] \n",
      " F1 Score:  0.33136094674556216 \n",
      "\n",
      "Model: Gaussian Bayes \n",
      " 0.84375 \n",
      " [[  27    5]\n",
      " [ 130 1198]] \n",
      " F1 Score:  0.28571428571428575 \n",
      "\n",
      "Model: Tree \n",
      " 0.90625 \n",
      " [[  29    3]\n",
      " [ 214 1114]] \n",
      " F1 Score:  0.2109090909090909 \n",
      "\n",
      "Model: Random Forest \n",
      " 0.875 \n",
      " [[  28    4]\n",
      " [ 143 1185]] \n",
      " F1 Score:  0.27586206896551724 \n",
      "\n"
     ]
    }
   ],
   "source": [
    "# weight balanced\n",
    "# This one performs the best\n",
    "# undersampling works much better\n",
    "# surprisingly, weight didn't help\n",
    "\n",
    "runall(X_train_rus, y_train_rus)"
   ]
  },
  {
   "cell_type": "code",
   "execution_count": 70,
   "metadata": {},
   "outputs": [
    {
     "name": "stdout",
     "output_type": "stream",
     "text": [
      "Model: kNN \n",
      " 0.25 \n",
      " [[   8   24]\n",
      " [  22 1306]] \n",
      " F1 Score:  0.2580645161290323 \n",
      "\n",
      "Model: Logistic Regression \n",
      " 0.875 \n",
      " [[  28    4]\n",
      " [  92 1236]] \n",
      " F1 Score:  0.3684210526315789 \n",
      "\n",
      "Model: Bernoulli Bayes \n",
      " 0.875 \n",
      " [[  28    4]\n",
      " [ 108 1220]] \n",
      " F1 Score:  0.33333333333333337 \n",
      "\n",
      "Model: Gaussian Bayes \n",
      " 0.8125 \n",
      " [[  26    6]\n",
      " [ 126 1202]] \n",
      " F1 Score:  0.28260869565217395 \n",
      "\n",
      "Model: Tree \n",
      " 0.375 \n",
      " [[  12   20]\n",
      " [  14 1314]] \n",
      " F1 Score:  0.41379310344827586 \n",
      "\n",
      "Model: Random Forest \n",
      " 0.46875 \n",
      " [[  15   17]\n",
      " [  15 1313]] \n",
      " F1 Score:  0.4838709677419355 \n",
      "\n"
     ]
    }
   ],
   "source": [
    "runall(X_train_ros, y_train_ros)"
   ]
  },
  {
   "cell_type": "code",
   "execution_count": 71,
   "metadata": {},
   "outputs": [
    {
     "name": "stdout",
     "output_type": "stream",
     "text": [
      "Model: kNN \n",
      " 0.625 \n",
      " [[  20   12]\n",
      " [  87 1241]] \n",
      " F1 Score:  0.28776978417266186 \n",
      "\n",
      "Model: Logistic Regression \n",
      " 0.5625 \n",
      " [[  18   14]\n",
      " [  32 1296]] \n",
      " F1 Score:  0.43902439024390244 \n",
      "\n",
      "Model: Bernoulli Bayes \n",
      " 0.84375 \n",
      " [[  27    5]\n",
      " [  71 1257]] \n",
      " F1 Score:  0.41538461538461535 \n",
      "\n",
      "Model: Gaussian Bayes \n",
      " 0.8125 \n",
      " [[  26    6]\n",
      " [  72 1256]] \n",
      " F1 Score:  0.39999999999999997 \n",
      "\n",
      "Model: Tree \n",
      " 0.40625 \n",
      " [[  13   19]\n",
      " [  21 1307]] \n",
      " F1 Score:  0.393939393939394 \n",
      "\n",
      "Model: Random Forest \n",
      " 0.46875 \n",
      " [[  15   17]\n",
      " [  15 1313]] \n",
      " F1 Score:  0.4838709677419355 \n",
      "\n"
     ]
    }
   ],
   "source": [
    "runall(X_train_smote, y_train_smote)"
   ]
  },
  {
   "cell_type": "code",
   "execution_count": 36,
   "metadata": {},
   "outputs": [
    {
     "name": "stdout",
     "output_type": "stream",
     "text": [
      "Model: kNN \n",
      " 0.625 \n",
      " [[  20   12]\n",
      " [  87 1241]] \n",
      " F1 Score:  0.28776978417266186 \n",
      "\n",
      "Model: Logistic Regression \n",
      " 0.40625 \n",
      " [[  13   19]\n",
      " [  22 1306]] \n",
      " F1 Score:  0.3880597014925374 \n",
      "\n",
      "Model: Bernoulli Bayes \n",
      " 0.84375 \n",
      " [[  27    5]\n",
      " [  71 1257]] \n",
      " F1 Score:  0.41538461538461535 \n",
      "\n",
      "Model: Gaussian Bayes \n",
      " 0.8125 \n",
      " [[  26    6]\n",
      " [  73 1255]] \n",
      " F1 Score:  0.39694656488549623 \n",
      "\n",
      "Model: Tree \n",
      " 0.375 \n",
      " [[  12   20]\n",
      " [  13 1315]] \n",
      " F1 Score:  0.42105263157894735 \n",
      "\n",
      "Model: Random Forest \n",
      " 0.40625 \n",
      " [[  13   19]\n",
      " [  13 1315]] \n",
      " F1 Score:  0.4482758620689655 \n",
      "\n"
     ]
    }
   ],
   "source": [
    "runall(X_train_ada, y_train_ada)"
   ]
  },
  {
   "cell_type": "code",
   "execution_count": 29,
   "metadata": {},
   "outputs": [
    {
     "data": {
      "text/plain": [
       "(array([[ 7.20742361e-04, -6.74609287e-02,  1.00202682e+00,\n",
       "         -1.15301354e+00, -4.08278966e-01,  4.81494494e-01,\n",
       "         -2.64509238e-01, -2.71539417e-02,  8.88179558e-03,\n",
       "         -2.27329447e-01, -4.66371695e-01,  2.06737163e-01,\n",
       "          4.11868806e-02,  3.77521773e-01, -5.95969424e-01,\n",
       "         -1.25370943e+00, -1.89228159e+00,  2.11823748e-02,\n",
       "          2.90636099e+00, -1.70773304e+00,  1.48928539e+00,\n",
       "         -1.20045181e+00,  9.82004160e-01, -8.62238831e-02,\n",
       "         -1.51927289e-01,  1.97035207e-02]]), array([-0.21844765]))"
      ]
     },
     "execution_count": 29,
     "metadata": {},
     "output_type": "execute_result"
    }
   ],
   "source": [
    "#Logistic Regression\n",
    "model_log = LogisticRegression(class_weight='balanced', solver= 'liblinear', C=4)\n",
    "model_log.fit(X_train_rus, y_train_rus)\n",
    "log_pred = model_log.predict(X_test)\n",
    "\n",
    "model_log.coef_, model_log.intercept_"
   ]
  },
  {
   "cell_type": "code",
   "execution_count": 110,
   "metadata": {},
   "outputs": [],
   "source": [
    "model_log.feature_names = X.columns\n",
    "model_log.target_names = y.unique()"
   ]
  },
  {
   "cell_type": "code",
   "execution_count": 111,
   "metadata": {},
   "outputs": [
    {
     "data": {
      "text/plain": [
       "array([[  29,    3],\n",
       "       [ 116, 1212]])"
      ]
     },
     "execution_count": 111,
     "metadata": {},
     "output_type": "execute_result"
    }
   ],
   "source": [
    "confusion_matrix(y_test, model_log.predict(X_test), labels=[1,0])"
   ]
  },
  {
   "cell_type": "code",
   "execution_count": 248,
   "metadata": {},
   "outputs": [
    {
     "data": {
      "image/png": "[encoded data removed]",
      "text/plain": [
       "<Figure size 900x600 with 2 Axes>"
      ]
     },
     "metadata": {
      "needs_background": "light"
     },
     "output_type": "display_data"
    }
   ],
   "source": [
    "# Print confusion matrix \n",
    "log_confusion = confusion_matrix(y_test, model_log.predict(X_test), labels=[1,0])\n",
    "plt.figure(dpi=150)\n",
    "\n",
    "xticks = np.array(['michelin', 'non-michelin'])\n",
    "yticks = np.array(['michelin', 'non-michelin'])\n",
    "sns.heatmap(log_confusion, cmap=plt.cm.Blues, annot=True, square=True, fmt='g',\n",
    "           xticklabels=xticks, yticklabels=yticks)\n",
    "\n",
    "plt.xlabel('Predicted michelins')\n",
    "plt.ylabel('Actual michelins')\n",
    "plt.yticks(rotation=0)\n",
    "plt.title('Logistic Regression Confusion Matrix');"
   ]
  },
  {
   "cell_type": "markdown",
   "metadata": {},
   "source": [
    "### Using specific restaurants to test model"
   ]
  },
  {
   "cell_type": "code",
   "execution_count": 28,
   "metadata": {},
   "outputs": [],
   "source": [
    "steak_list = np.array([754,0,1,0,1,0,0,0 ,1 ,0 ,0 ,1 ,0 ,0 ,1 ,0 ,0 ,1 ,0 ,0 ,1 ,0 ,1, 0, 0, 1])\n",
    "steak_list = steak_list.reshape(1, 26)"
   ]
  },
  {
   "cell_type": "code",
   "execution_count": 29,
   "metadata": {},
   "outputs": [],
   "source": [
    "alinea_list = np.array([2050,0,1,0,0,0,1,0 ,1 ,0 ,0 ,1 ,0 ,0 ,1 ,0 ,0 ,0 ,1 ,0 ,1 ,0 ,1, 0, 0, 1])\n",
    "alinea_list = alinea_list.reshape(1, 26)"
   ]
  },
  {
   "cell_type": "code",
   "execution_count": 30,
   "metadata": {},
   "outputs": [],
   "source": [
    "rainforest_list = np.array([379,0,1,0,0,1,0,0 ,0 ,1 ,1 ,0 ,0 ,0 ,1 ,0 ,1 ,0 ,0 ,1 ,0 ,1 ,0, 1, 0, 0])\n",
    "rainforest_list = rainforest_list.reshape(1, 26)"
   ]
  },
  {
   "cell_type": "code",
   "execution_count": 31,
   "metadata": {},
   "outputs": [],
   "source": [
    "dumpling_list = np.array([747,0,0,1,1,0,0,0 ,1 ,0 ,1 ,0 ,0 ,0 ,1 ,0 ,1 ,0 ,0 ,0 ,1 ,1 ,0, 0, 1, 0])\n",
    "dumpling_list = dumpling_list.reshape(1, 26)"
   ]
  },
  {
   "cell_type": "code",
   "execution_count": 136,
   "metadata": {},
   "outputs": [
    {
     "data": {
      "text/plain": [
       "array([[0.98699864, 0.01300136]])"
      ]
     },
     "execution_count": 136,
     "metadata": {},
     "output_type": "execute_result"
    }
   ],
   "source": [
    "model_log.predict_proba(rainforest_list)"
   ]
  },
  {
   "cell_type": "code",
   "execution_count": 113,
   "metadata": {},
   "outputs": [],
   "source": [
    "# with open('champ_model', 'wb') as to_write:\n",
    "#     pickle.dump(model_log, to_write)"
   ]
  },
  {
   "cell_type": "code",
   "execution_count": 196,
   "metadata": {},
   "outputs": [
    {
     "data": {
      "text/plain": [
       "michelin        6653\n",
       "not_michelin     143\n",
       "Name: michelin, dtype: int64"
      ]
     },
     "execution_count": 196,
     "metadata": {},
     "output_type": "execute_result"
    }
   ],
   "source": [
    "df_final = df.copy()\n",
    "df_final.michelin = df_final.michelin.apply(lambda x: 'michelin' if x == 0 else 'not_michelin')\n",
    "df_final.michelin.value_counts()"
   ]
  },
  {
   "cell_type": "code",
   "execution_count": 197,
   "metadata": {},
   "outputs": [],
   "source": [
    "X_final = df_final.drop('michelin', axis = 1)\n",
    "y_final = df_final.michelin"
   ]
  },
  {
   "cell_type": "markdown",
   "metadata": {},
   "source": [
    "### From the confusion matrices and metrics above we've chosen our champion model"
   ]
  },
  {
   "cell_type": "code",
   "execution_count": 198,
   "metadata": {},
   "outputs": [
    {
     "data": {
      "text/plain": [
       "LogisticRegression(C=4, class_weight='balanced', dual=False,\n",
       "          fit_intercept=True, intercept_scaling=1, max_iter=100,\n",
       "          multi_class='warn', n_jobs=None, penalty='l2', random_state=None,\n",
       "          solver='liblinear', tol=0.0001, verbose=0, warm_start=False)"
      ]
     },
     "execution_count": 198,
     "metadata": {},
     "output_type": "execute_result"
    }
   ],
   "source": [
    "test = LogisticRegression(class_weight='balanced', solver= 'liblinear', C=4)\n",
    "test.fit(X_train_rus, y_train_rus)"
   ]
  },
  {
   "cell_type": "code",
   "execution_count": 199,
   "metadata": {},
   "outputs": [],
   "source": [
    "test.feature_names = X.columns\n",
    "test.target_names = y.unique()"
   ]
  },
  {
   "cell_type": "code",
   "execution_count": 200,
   "metadata": {},
   "outputs": [
    {
     "data": {
      "text/plain": [
       "array([0, 1])"
      ]
     },
     "execution_count": 200,
     "metadata": {},
     "output_type": "execute_result"
    }
   ],
   "source": [
    "test.target_names"
   ]
  },
  {
   "cell_type": "code",
   "execution_count": 201,
   "metadata": {},
   "outputs": [
    {
     "data": {
      "text/plain": [
       "array([[0.01082196, 0.98917804]])"
      ]
     },
     "execution_count": 201,
     "metadata": {},
     "output_type": "execute_result"
    }
   ],
   "source": [
    "test.predict_proba(alinea_list)"
   ]
  },
  {
   "cell_type": "code",
   "execution_count": 202,
   "metadata": {},
   "outputs": [
    {
     "data": {
      "text/plain": [
       "array([[0.99767094, 0.00232906]])"
      ]
     },
     "execution_count": 202,
     "metadata": {},
     "output_type": "execute_result"
    }
   ],
   "source": [
    "test.predict_proba(rainforest_list)"
   ]
  },
  {
   "cell_type": "code",
   "execution_count": 203,
   "metadata": {},
   "outputs": [
    {
     "data": {
      "text/plain": [
       "array([[ 0.00033709, -0.24297219,  1.02383852, -1.05595571,  0.33600328,\n",
       "        -1.09007624,  0.54233744, -0.06335386, -0.03596012, -0.23912927,\n",
       "        -0.4543706 ,  0.07381343,  0.10546778,  0.8682232 , -1.14331259,\n",
       "        -1.92340132, -1.27493406,  1.09827293,  1.82497306, -1.34532119,\n",
       "         1.0702318 , -0.99495561,  0.71986623, -0.39436585,  0.09571135,\n",
       "         0.02356511]])"
      ]
     },
     "execution_count": 203,
     "metadata": {},
     "output_type": "execute_result"
    }
   ],
   "source": [
    "test.coef_"
   ]
  },
  {
   "cell_type": "code",
   "execution_count": 271,
   "metadata": {},
   "outputs": [
    {
     "data": {
      "image/png": "[encoded data removed]",
      "text/plain": [
       "<Figure size 480x320 with 1 Axes>"
      ]
     },
     "metadata": {
      "needs_background": "light"
     },
     "output_type": "display_data"
    }
   ],
   "source": [
    "precision_curve, recall_curve, threshold_curve = precision_recall_curve(y_test, test.predict_proba(X_test)[:,1] )\n",
    "\n",
    "plt.figure(dpi=80)\n",
    "plt.plot(threshold_curve, precision_curve[1:],label='precision')\n",
    "plt.plot(threshold_curve, recall_curve[1:], label='recall')\n",
    "plt.legend(loc='lower left')\n",
    "plt.xlabel('Threshold');\n",
    "plt.title('Precision and Recall Curves');"
   ]
  },
  {
   "cell_type": "markdown",
   "metadata": {},
   "source": [
    "### Pickling my model for Flask"
   ]
  },
  {
   "cell_type": "code",
   "execution_count": 205,
   "metadata": {},
   "outputs": [],
   "source": [
    "with open('test', 'wb') as to_write:\n",
    "    pickle.dump(test, to_write)"
   ]
  }
 ],
 "metadata": {
  "kernelspec": {
   "display_name": "metis",
   "language": "python",
   "name": "metis"
  },
  "language_info": {
   "codemirror_mode": {
    "name": "ipython",
    "version": 3
   },
   "file_extension": ".py",
   "mimetype": "text/x-python",
   "name": "python",
   "nbconvert_exporter": "python",
   "pygments_lexer": "ipython3",
   "version": "3.7.1"
  }
 },
 "nbformat": 4,
 "nbformat_minor": 2
}
